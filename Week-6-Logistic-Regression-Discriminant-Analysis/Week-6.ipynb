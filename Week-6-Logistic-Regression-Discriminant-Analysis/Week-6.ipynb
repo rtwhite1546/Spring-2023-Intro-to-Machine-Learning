{
 "cells": [
  {
   "cell_type": "markdown",
   "id": "5bc4065d-0deb-42fc-b620-aeb03ae430cf",
   "metadata": {},
   "source": [
    "# Week 6: Logistic Regression and Discriminant Analysis\n",
    "\n",
    "This week, we cover **logistic regression**, one of the most popular classifiers. Like the other classifiers we have seen, it computes posterior probabilities without assuming the distributions of the classes.\n",
    "\n",
    "Secondly, we will consider **discriminant analysis**, a powerful family of classifiers that construct so-called **discriminant functions** that specify decision boundaries that determine how points are assigned to classes.\n",
    "\n",
    "Unlike previously-seen classifiers, these methods do not necessarily require assuming the distribution of the classes."
   ]
  },
  {
   "cell_type": "markdown",
   "id": "5c6cc816-cc7c-464c-b281-32039651c734",
   "metadata": {},
   "source": [
    "We see 93% accuracy on the test set with zero hyperparameter tuning!"
   ]
  },
  {
   "cell_type": "markdown",
   "id": "b466b726-37cd-4c29-8ca8-c5061558dea6",
   "metadata": {},
   "source": [
    "# Lecture 11: Fisher's LDA\n",
    "\n",
    "(see the class notes in Canvas)"
   ]
  }
 ],
 "metadata": {
  "kernelspec": {
   "display_name": "Python 3 (ipykernel)",
   "language": "python",
   "name": "python3"
  },
  "language_info": {
   "codemirror_mode": {
    "name": "ipython",
    "version": 3
   },
   "file_extension": ".py",
   "mimetype": "text/x-python",
   "name": "python",
   "nbconvert_exporter": "python",
   "pygments_lexer": "ipython3",
   "version": "3.10.9"
  }
 },
 "nbformat": 4,
 "nbformat_minor": 5
}
