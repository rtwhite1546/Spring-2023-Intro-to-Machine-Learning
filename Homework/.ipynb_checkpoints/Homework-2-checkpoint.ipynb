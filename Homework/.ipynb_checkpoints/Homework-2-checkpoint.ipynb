{
 "cells": [
  {
   "cell_type": "markdown",
   "id": "b4744962-cf2d-414d-acf8-38e56a8c5bea",
   "metadata": {
    "tags": []
   },
   "source": [
    "# MTH 4224 / CSE 4224 - Homework 2\n",
    "\n",
    "## Kernel smoothing, RBFs, and Classification\n",
    "\n",
    "**Deadline**: Mar 6\n",
    "\n",
    "**Points**: 75\n",
    "\n",
    "### Instructions\n",
    "\n",
    "Submit **one** Python notebook file for grading. Your file must include **text explanations** of your work, **well-commented code**, and the **outputs** from your code.\n",
    "\n",
    "### Datasets\n",
    "\n",
    "For problems 1-5, use the [Power consumption of Tetouan city Data Set](https://archive.ics.uci.edu/ml/datasets/Power+consumption+of+Tetouan+city) of power consumption of three different distribution networks of Tetouan, Morocco. UCI Machine Learning Repository.\n",
    "\n",
    "For porblems 6-9, use the [Internet Firewall Data Dataset](https://archive.ics.uci.edu/ml/datasets/Internet+Firewall+Data) of actions taken by a firewall given the inputs\n",
    "\n",
    "### Problems\n",
    "\n",
    "#### Power Consumption Regression\n",
    "\n",
    "1. **[5 points]** Plot the power consumption by each distribution network over time, note any patterns with practical explanations.\n",
    "\n",
    "2. **[5 points]** Use pairplots to analyze the feature distributions and relationships.\n",
    "\n",
    "3. **[10 points]** Train, tune, and test a linear basis expansion model on the dataset with a reasonable set of functions based on the data. Note strongly dependent features should have interaction terms and periodic patterns can be modeled with sines and cosines. Run at least 5 experiments and document them in your submission.\n",
    "\n",
    "4. **[10 points]** Train, tune, and test a kernel regression model on the dataset. Run at least 5 experiments and document them in your submission.\n",
    "\n",
    "5. **[10 points]** Add LASSO ($L^1$) regularization to your best LBF model from the previous steps. Compute a LASSO path to get a ranking of feature importance. Further, plot the test error for each $\\lambda$ coefficient. Interpret this practically.\n",
    "\n",
    "#### Internet Firewall Data Dataset\n",
    "\n",
    "6. **[5 points]** Convert all port numbers to one-hot representations. Are certain ports (of the 4 types) more associated with specific action classes?\n",
    "\n",
    "7. **[10 points]** Train and test the Naive Bayes and Bayes classifiers to classify actions from the input features.\n",
    "\n",
    "8. **[10 points]** Train and test logistic regression to classify actions from the input features.\n",
    "\n",
    "9. **[10 points]** Add LASSO ($L^1$) regularization to your logistic regression model. Compute a LASSO path to get a ranking of feature importance. Further, plot the test error for each $\\lambda$ coefficient."
   ]
  }
 ],
 "metadata": {
  "kernelspec": {
   "display_name": "Python 3 (ipykernel)",
   "language": "python",
   "name": "python3"
  },
  "language_info": {
   "codemirror_mode": {
    "name": "ipython",
    "version": 3
   },
   "file_extension": ".py",
   "mimetype": "text/x-python",
   "name": "python",
   "nbconvert_exporter": "python",
   "pygments_lexer": "ipython3",
   "version": "3.10.1"
  }
 },
 "nbformat": 4,
 "nbformat_minor": 5
}
